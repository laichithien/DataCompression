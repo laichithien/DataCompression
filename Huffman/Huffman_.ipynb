{
 "cells": [
  {
   "cell_type": "code",
   "execution_count": 47,
   "metadata": {},
   "outputs": [],
   "source": [
    "from collections import Counter\n"
   ]
  },
  {
   "cell_type": "code",
   "execution_count": 59,
   "metadata": {},
   "outputs": [],
   "source": [
    "from queue import PriorityQueue\n",
    "from collections import Counter\n",
    "\n",
    "\n",
    "class HuffmanNode:\n",
    "    def __init__(self, symbol=None, frequency=0, left=None, right=None):\n",
    "        self.symbol = symbol\n",
    "        self.frequency = frequency\n",
    "        self.left = left\n",
    "        self.right = right\n",
    "\n",
    "    def __lt__(self, other):\n",
    "        return self.frequency < other.frequency\n",
    "\n",
    "def build_huffman_tree(data):\n",
    "    frequency_counter = Counter(data)\n",
    "    priority_queue = PriorityQueue()\n",
    "\n",
    "    # Create a leaf node for each symbol and add it to the priority queue\n",
    "    for symbol, frequency in frequency_counter.items():\n",
    "        priority_queue.put(HuffmanNode(symbol, frequency))\n",
    "\n",
    "    # Build the Huffman tree by combining the nodes\n",
    "    while priority_queue.qsize() > 1:\n",
    "        left = priority_queue.get()\n",
    "        right = priority_queue.get()\n",
    "        parent = HuffmanNode(frequency=left.frequency + right.frequency, left=left, right=right)\n",
    "        priority_queue.put(parent)\n",
    "\n",
    "    # Return the root of the Huffman tree\n",
    "    return priority_queue.get()\n",
    "\n",
    "\n",
    "def build_huffman_dictionary(huffman_tree, prefix='', dictionary={}):\n",
    "    if huffman_tree is None:\n",
    "        return\n",
    "\n",
    "    if huffman_tree.symbol is not None:\n",
    "        dictionary[huffman_tree.symbol] = prefix\n",
    "\n",
    "    build_huffman_dictionary(huffman_tree.right, prefix + '0', dictionary)\n",
    "    build_huffman_dictionary(huffman_tree.left, prefix + '1', dictionary)\n",
    "\n",
    "    return dictionary\n",
    "\n",
    "\n",
    "def huffman_encode(data):\n",
    "    huffman_tree = build_huffman_tree(data)\n",
    "    huffman_dictionary = build_huffman_dictionary(huffman_tree)\n",
    "    encoded_data = ''.join(huffman_dictionary[symbol] for symbol in data)\n",
    "\n",
    "    return encoded_data, huffman_tree"
   ]
  },
  {
   "cell_type": "code",
   "execution_count": 60,
   "metadata": {},
   "outputs": [],
   "source": [
    "def HuffmanEncode(input_string, dictionary):\n",
    "    encoded = \"\"\n",
    "    for char in input_string:\n",
    "        if char in dictionary:\n",
    "            encoded += dictionary[char]\n",
    "        else:\n",
    "            encoded += char\n",
    "    return encoded"
   ]
  },
  {
   "cell_type": "code",
   "execution_count": 65,
   "metadata": {},
   "outputs": [],
   "source": [
    "def huffman_decode(encoded_data, huffman_tree):\n",
    "    decoded_data = ''\n",
    "    current_node = huffman_tree\n",
    "\n",
    "    for bit in encoded_data:\n",
    "        if bit == '0':\n",
    "            current_node = current_node.right\n",
    "        elif bit == '1':\n",
    "            current_node = current_node.left\n",
    "\n",
    "        if current_node.symbol is not None:\n",
    "            decoded_data += current_node.symbol\n",
    "            current_node = huffman_tree\n",
    "\n",
    "    return decoded_data"
   ]
  },
  {
   "cell_type": "code",
   "execution_count": 85,
   "metadata": {},
   "outputs": [],
   "source": [
    "def visualize_huffman_tree(huffman_tree):\n",
    "    def traverse_tree(node, level=0, is_left=False, prefix=''):\n",
    "        if node is None:\n",
    "            return\n",
    "\n",
    "        # Determine the number of spaces for indentation\n",
    "        num_spaces = 4\n",
    "        indent = ' ' * (level * num_spaces)\n",
    "\n",
    "        # Print the node representation with indentation\n",
    "        if prefix:\n",
    "            prefix += '───'\n",
    "\n",
    "        if node.symbol is not None:\n",
    "            print(f\"{indent}{prefix}({node.frequency}) {node.symbol}\")\n",
    "        else:\n",
    "            print(f\"{indent}{prefix}({node.frequency})\")\n",
    "\n",
    "        # Recursively traverse the left and right subtrees\n",
    "        traverse_tree(node.left, level + 1, is_left=True, prefix='├')\n",
    "        traverse_tree(node.right, level + 1, is_left=False, prefix='└')\n",
    "\n",
    "    traverse_tree(huffman_tree)\n"
   ]
  },
  {
   "cell_type": "code",
   "execution_count": 94,
   "metadata": {},
   "outputs": [],
   "source": [
    "def build_encoding_table(huffman_tree):\n",
    "    encoding_table = {}\n",
    "\n",
    "    def traverse_tree(node, code=''):\n",
    "        if node.symbol is not None:\n",
    "            encoding_table[node.symbol] = code\n",
    "        else:\n",
    "            traverse_tree(node.right, code + '0')\n",
    "            traverse_tree(node.left, code + '1')\n",
    "\n",
    "    traverse_tree(huffman_tree)\n",
    "    return encoding_table"
   ]
  },
  {
   "cell_type": "code",
   "execution_count": 95,
   "metadata": {},
   "outputs": [
    {
     "name": "stdout",
     "output_type": "stream",
     "text": [
      "Encoded data: 001111010100100011101000010001101100100001110\n"
     ]
    }
   ],
   "source": [
    "string = 'BAACECBAEEBCBADBEBDE'\n",
    "encoded_str, huffman_tree = huffman_encode(string)\n",
    "\n",
    "print(f\"Encoded data: {encoded_str}\")"
   ]
  },
  {
   "cell_type": "code",
   "execution_count": 96,
   "metadata": {},
   "outputs": [
    {
     "name": "stdout",
     "output_type": "stream",
     "text": [
      "Decoded data: BAACECBAEEBCBADBEBDE\n"
     ]
    }
   ],
   "source": [
    "# Example usage\n",
    "decoded_data = huffman_decode(encoded_str, huffman_tree)\n",
    "\n",
    "print(f\"Decoded data: {decoded_data}\")"
   ]
  },
  {
   "cell_type": "code",
   "execution_count": 97,
   "metadata": {},
   "outputs": [
    {
     "name": "stdout",
     "output_type": "stream",
     "text": [
      "{'B': '00', 'C': '010', 'D': '011', 'E': '10', 'A': '11'}\n"
     ]
    }
   ],
   "source": [
    "print(build_encoding_table(huffman_tree))"
   ]
  },
  {
   "cell_type": "code",
   "execution_count": 86,
   "metadata": {},
   "outputs": [
    {
     "name": "stdout",
     "output_type": "stream",
     "text": [
      "(20)\n",
      "    ├───(9)\n",
      "        ├───(4) A\n",
      "        └───(5) E\n",
      "    └───(11)\n",
      "        ├───(5)\n",
      "            ├───(2) D\n",
      "            └───(3) C\n",
      "        └───(6) B\n"
     ]
    }
   ],
   "source": [
    "visualize_huffman_tree(huffman_tree)"
   ]
  },
  {
   "cell_type": "code",
   "execution_count": null,
   "metadata": {},
   "outputs": [],
   "source": []
  }
 ],
 "metadata": {
  "kernelspec": {
   "display_name": "Python 3",
   "language": "python",
   "name": "python3"
  },
  "language_info": {
   "codemirror_mode": {
    "name": "ipython",
    "version": 3
   },
   "file_extension": ".py",
   "mimetype": "text/x-python",
   "name": "python",
   "nbconvert_exporter": "python",
   "pygments_lexer": "ipython3",
   "version": "3.11.4"
  },
  "orig_nbformat": 4
 },
 "nbformat": 4,
 "nbformat_minor": 2
}
